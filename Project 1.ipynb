{
 "cells": [
  {
   "cell_type": "markdown",
   "metadata": {},
   "source": [
    "# Import Libaries and fetch data"
   ]
  },
  {
   "cell_type": "code",
   "execution_count": 11,
   "metadata": {},
   "outputs": [
    {
     "data": {
      "text/html": [
       "<div>\n",
       "<style scoped>\n",
       "    .dataframe tbody tr th:only-of-type {\n",
       "        vertical-align: middle;\n",
       "    }\n",
       "\n",
       "    .dataframe tbody tr th {\n",
       "        vertical-align: top;\n",
       "    }\n",
       "\n",
       "    .dataframe thead th {\n",
       "        text-align: right;\n",
       "    }\n",
       "</style>\n",
       "<table border=\"1\" class=\"dataframe\">\n",
       "  <thead>\n",
       "    <tr style=\"text-align: right;\">\n",
       "      <th></th>\n",
       "      <th>FOD1P</th>\n",
       "      <th>SCHL</th>\n",
       "      <th>WAGP</th>\n",
       "      <th>AGEP</th>\n",
       "      <th>COW</th>\n",
       "    </tr>\n",
       "  </thead>\n",
       "  <tbody>\n",
       "    <tr>\n",
       "      <th>0</th>\n",
       "      <td>6107.0</td>\n",
       "      <td>21.0</td>\n",
       "      <td>39000.0</td>\n",
       "      <td>63</td>\n",
       "      <td>3.0</td>\n",
       "    </tr>\n",
       "    <tr>\n",
       "      <th>1</th>\n",
       "      <td>3600.0</td>\n",
       "      <td>21.0</td>\n",
       "      <td>16000.0</td>\n",
       "      <td>22</td>\n",
       "      <td>2.0</td>\n",
       "    </tr>\n",
       "    <tr>\n",
       "      <th>2</th>\n",
       "      <td>6107.0</td>\n",
       "      <td>21.0</td>\n",
       "      <td>100000.0</td>\n",
       "      <td>52</td>\n",
       "      <td>1.0</td>\n",
       "    </tr>\n",
       "    <tr>\n",
       "      <th>3</th>\n",
       "      <td>3700.0</td>\n",
       "      <td>21.0</td>\n",
       "      <td>41000.0</td>\n",
       "      <td>65</td>\n",
       "      <td>1.0</td>\n",
       "    </tr>\n",
       "    <tr>\n",
       "      <th>4</th>\n",
       "      <td>2300.0</td>\n",
       "      <td>21.0</td>\n",
       "      <td>15000.0</td>\n",
       "      <td>33</td>\n",
       "      <td>1.0</td>\n",
       "    </tr>\n",
       "  </tbody>\n",
       "</table>\n",
       "</div>"
      ],
      "text/plain": [
       "    FOD1P  SCHL      WAGP  AGEP  COW\n",
       "0  6107.0  21.0   39000.0    63  3.0\n",
       "1  3600.0  21.0   16000.0    22  2.0\n",
       "2  6107.0  21.0  100000.0    52  1.0\n",
       "3  3700.0  21.0   41000.0    65  1.0\n",
       "4  2300.0  21.0   15000.0    33  1.0"
      ]
     },
     "execution_count": 11,
     "metadata": {},
     "output_type": "execute_result"
    }
   ],
   "source": [
    "import pandas as pd\n",
    "import numpy as np\n",
    "path=\"Resources/US_Data.csv\"\n",
    "fields = ['FOD1P','SCHL','WAGP','AGEP','COW']\n",
    "coarse_data=pd.read_csv(path, skipinitialspace=True, usecols=fields)\n",
    "coarse_data['FOD1P'] = coarse_data['FOD1P'].astype(str)\n",
    "coarse_data.head()"
   ]
  },
  {
   "cell_type": "code",
   "execution_count": 12,
   "metadata": {},
   "outputs": [
    {
     "data": {
      "text/plain": [
       "2300.0       143321\n",
       "6107.0       142481\n",
       "6201.0       132941\n",
       "3600.0       115702\n",
       "5506.0        82457\n",
       "5501.0        72111\n",
       "6206.0        71299\n",
       "2102.0        64064\n",
       "6207.0        62909\n",
       "No_Degree     60000\n",
       "5507.0        59514\n",
       "2414.0        55551\n",
       "3700.0        51447\n",
       "5003.0        44418\n",
       "2406.0        33553\n",
       "2405.0        21123\n",
       "6108.0        19156\n",
       "6100.0        10497\n",
       "1301.0        10415\n",
       "5601.0         5956\n",
       "3202.0         5266\n",
       "3702.0         2809\n",
       "Name: FOD1P, dtype: int64"
      ]
     },
     "execution_count": 12,
     "metadata": {},
     "output_type": "execute_result"
    }
   ],
   "source": [
    "coarse_data['FOD1P'].value_counts()"
   ]
  },
  {
   "cell_type": "code",
   "execution_count": 13,
   "metadata": {},
   "outputs": [
    {
     "data": {
      "text/plain": [
       "21.0    730828\n",
       "22.0    311388\n",
       "24.0     60873\n",
       "Name: SCHL, dtype: int64"
      ]
     },
     "execution_count": 13,
     "metadata": {},
     "output_type": "execute_result"
    }
   ],
   "source": [
    "education_attainment = [24.0,22.0,21.0]\n",
    "refined_data = coarse_data.loc[coarse_data['SCHL'].isin(education_attainment)].copy()\n",
    "refined_data['SCHL'].value_counts()"
   ]
  },
  {
   "cell_type": "code",
   "execution_count": 14,
   "metadata": {},
   "outputs": [
    {
     "data": {
      "text/html": [
       "<div>\n",
       "<style scoped>\n",
       "    .dataframe tbody tr th:only-of-type {\n",
       "        vertical-align: middle;\n",
       "    }\n",
       "\n",
       "    .dataframe tbody tr th {\n",
       "        vertical-align: top;\n",
       "    }\n",
       "\n",
       "    .dataframe thead th {\n",
       "        text-align: right;\n",
       "    }\n",
       "</style>\n",
       "<table border=\"1\" class=\"dataframe\">\n",
       "  <thead>\n",
       "    <tr style=\"text-align: right;\">\n",
       "      <th></th>\n",
       "      <th>FOD1P</th>\n",
       "      <th>SCHL</th>\n",
       "      <th>WAGP</th>\n",
       "      <th>AGEP</th>\n",
       "      <th>COW</th>\n",
       "    </tr>\n",
       "  </thead>\n",
       "  <tbody>\n",
       "    <tr>\n",
       "      <th>0</th>\n",
       "      <td>6107.0</td>\n",
       "      <td>21.0</td>\n",
       "      <td>39000.0</td>\n",
       "      <td>63</td>\n",
       "      <td>3.0</td>\n",
       "    </tr>\n",
       "    <tr>\n",
       "      <th>1</th>\n",
       "      <td>3600.0</td>\n",
       "      <td>21.0</td>\n",
       "      <td>16000.0</td>\n",
       "      <td>22</td>\n",
       "      <td>2.0</td>\n",
       "    </tr>\n",
       "    <tr>\n",
       "      <th>2</th>\n",
       "      <td>6107.0</td>\n",
       "      <td>21.0</td>\n",
       "      <td>100000.0</td>\n",
       "      <td>52</td>\n",
       "      <td>1.0</td>\n",
       "    </tr>\n",
       "    <tr>\n",
       "      <th>3</th>\n",
       "      <td>3700.0</td>\n",
       "      <td>21.0</td>\n",
       "      <td>41000.0</td>\n",
       "      <td>65</td>\n",
       "      <td>1.0</td>\n",
       "    </tr>\n",
       "    <tr>\n",
       "      <th>4</th>\n",
       "      <td>2300.0</td>\n",
       "      <td>21.0</td>\n",
       "      <td>15000.0</td>\n",
       "      <td>33</td>\n",
       "      <td>1.0</td>\n",
       "    </tr>\n",
       "  </tbody>\n",
       "</table>\n",
       "</div>"
      ],
      "text/plain": [
       "    FOD1P  SCHL      WAGP  AGEP  COW\n",
       "0  6107.0  21.0   39000.0    63  3.0\n",
       "1  3600.0  21.0   16000.0    22  2.0\n",
       "2  6107.0  21.0  100000.0    52  1.0\n",
       "3  3700.0  21.0   41000.0    65  1.0\n",
       "4  2300.0  21.0   15000.0    33  1.0"
      ]
     },
     "execution_count": 14,
     "metadata": {},
     "output_type": "execute_result"
    }
   ],
   "source": [
    "refined_data.head()"
   ]
  },
  {
   "cell_type": "markdown",
   "metadata": {},
   "source": [
    "# Replace code values with descriptive text"
   ]
  },
  {
   "cell_type": "code",
   "execution_count": 15,
   "metadata": {},
   "outputs": [
    {
     "data": {
      "text/html": [
       "<div>\n",
       "<style scoped>\n",
       "    .dataframe tbody tr th:only-of-type {\n",
       "        vertical-align: middle;\n",
       "    }\n",
       "\n",
       "    .dataframe tbody tr th {\n",
       "        vertical-align: top;\n",
       "    }\n",
       "\n",
       "    .dataframe thead th {\n",
       "        text-align: right;\n",
       "    }\n",
       "</style>\n",
       "<table border=\"1\" class=\"dataframe\">\n",
       "  <thead>\n",
       "    <tr style=\"text-align: right;\">\n",
       "      <th></th>\n",
       "      <th>FOD1P</th>\n",
       "      <th>SCHL</th>\n",
       "      <th>WAGP</th>\n",
       "      <th>AGEP</th>\n",
       "      <th>COW</th>\n",
       "      <th>tuition</th>\n",
       "    </tr>\n",
       "  </thead>\n",
       "  <tbody>\n",
       "    <tr>\n",
       "      <th>0</th>\n",
       "      <td>6107.0</td>\n",
       "      <td>Bachelors_Degree</td>\n",
       "      <td>39000.0</td>\n",
       "      <td>63</td>\n",
       "      <td>3.0</td>\n",
       "      <td>24116</td>\n",
       "    </tr>\n",
       "    <tr>\n",
       "      <th>1</th>\n",
       "      <td>3600.0</td>\n",
       "      <td>Bachelors_Degree</td>\n",
       "      <td>16000.0</td>\n",
       "      <td>22</td>\n",
       "      <td>2.0</td>\n",
       "      <td>24116</td>\n",
       "    </tr>\n",
       "    <tr>\n",
       "      <th>2</th>\n",
       "      <td>6107.0</td>\n",
       "      <td>Bachelors_Degree</td>\n",
       "      <td>100000.0</td>\n",
       "      <td>52</td>\n",
       "      <td>1.0</td>\n",
       "      <td>24116</td>\n",
       "    </tr>\n",
       "    <tr>\n",
       "      <th>3</th>\n",
       "      <td>3700.0</td>\n",
       "      <td>Bachelors_Degree</td>\n",
       "      <td>41000.0</td>\n",
       "      <td>65</td>\n",
       "      <td>1.0</td>\n",
       "      <td>24116</td>\n",
       "    </tr>\n",
       "    <tr>\n",
       "      <th>4</th>\n",
       "      <td>2300.0</td>\n",
       "      <td>Bachelors_Degree</td>\n",
       "      <td>15000.0</td>\n",
       "      <td>33</td>\n",
       "      <td>1.0</td>\n",
       "      <td>24116</td>\n",
       "    </tr>\n",
       "  </tbody>\n",
       "</table>\n",
       "</div>"
      ],
      "text/plain": [
       "    FOD1P              SCHL      WAGP  AGEP  COW tuition\n",
       "0  6107.0  Bachelors_Degree   39000.0    63  3.0   24116\n",
       "1  3600.0  Bachelors_Degree   16000.0    22  2.0   24116\n",
       "2  6107.0  Bachelors_Degree  100000.0    52  1.0   24116\n",
       "3  3700.0  Bachelors_Degree   41000.0    65  1.0   24116\n",
       "4  2300.0  Bachelors_Degree   15000.0    33  1.0   24116"
      ]
     },
     "execution_count": 15,
     "metadata": {},
     "output_type": "execute_result"
    }
   ],
   "source": [
    "bachelors_tuition = 24116\n",
    "masters_tuition = 35000\n",
    "phd_tuition = 0\n",
    "refined_data[\"tuition\"] = np.where(refined_data.SCHL == 21.0, bachelors_tuition,\n",
    "                                 np.where(refined_data.SCHL == 22.0, masters_tuition,\n",
    "                                          np.where(refined_data.SCHL == 24.0, phd_tuition, \"NA\")))\n",
    "\n",
    "refined_data[\"SCHL\"] = np.where(refined_data.SCHL == 21.0, \"Bachelors_Degree\",\n",
    "                                 np.where(refined_data.SCHL == 22.0, \"Masters_Degree\",\n",
    "                                          np.where(refined_data.SCHL == 24.0, \"PHD\", \"NA\")))\n",
    "refined_data.head()"
   ]
  },
  {
   "cell_type": "code",
   "execution_count": 16,
   "metadata": {},
   "outputs": [
    {
     "data": {
      "text/plain": [
       "Bachelors_Degree    730828\n",
       "Masters_Degree      311388\n",
       "PHD                  60873\n",
       "Name: SCHL, dtype: int64"
      ]
     },
     "execution_count": 16,
     "metadata": {},
     "output_type": "execute_result"
    }
   ],
   "source": [
    "refined_data[\"SCHL\"].value_counts()"
   ]
  },
  {
   "cell_type": "code",
   "execution_count": 17,
   "metadata": {},
   "outputs": [
    {
     "data": {
      "text/html": [
       "<div>\n",
       "<style scoped>\n",
       "    .dataframe tbody tr th:only-of-type {\n",
       "        vertical-align: middle;\n",
       "    }\n",
       "\n",
       "    .dataframe tbody tr th {\n",
       "        vertical-align: top;\n",
       "    }\n",
       "\n",
       "    .dataframe thead th {\n",
       "        text-align: right;\n",
       "    }\n",
       "</style>\n",
       "<table border=\"1\" class=\"dataframe\">\n",
       "  <thead>\n",
       "    <tr style=\"text-align: right;\">\n",
       "      <th></th>\n",
       "      <th>FOD1P</th>\n",
       "      <th>SCHL</th>\n",
       "      <th>WAGP</th>\n",
       "      <th>AGEP</th>\n",
       "      <th>COW</th>\n",
       "      <th>tuition</th>\n",
       "    </tr>\n",
       "  </thead>\n",
       "  <tbody>\n",
       "    <tr>\n",
       "      <th>0</th>\n",
       "      <td>Nursing</td>\n",
       "      <td>Bachelors_Degree</td>\n",
       "      <td>39000.0</td>\n",
       "      <td>63</td>\n",
       "      <td>3.0</td>\n",
       "      <td>24116</td>\n",
       "    </tr>\n",
       "    <tr>\n",
       "      <th>1</th>\n",
       "      <td>Biology</td>\n",
       "      <td>Bachelors_Degree</td>\n",
       "      <td>16000.0</td>\n",
       "      <td>22</td>\n",
       "      <td>2.0</td>\n",
       "      <td>24116</td>\n",
       "    </tr>\n",
       "    <tr>\n",
       "      <th>2</th>\n",
       "      <td>Nursing</td>\n",
       "      <td>Bachelors_Degree</td>\n",
       "      <td>100000.0</td>\n",
       "      <td>52</td>\n",
       "      <td>1.0</td>\n",
       "      <td>24116</td>\n",
       "    </tr>\n",
       "    <tr>\n",
       "      <th>3</th>\n",
       "      <td>Mathematics</td>\n",
       "      <td>Bachelors_Degree</td>\n",
       "      <td>41000.0</td>\n",
       "      <td>65</td>\n",
       "      <td>1.0</td>\n",
       "      <td>24116</td>\n",
       "    </tr>\n",
       "    <tr>\n",
       "      <th>4</th>\n",
       "      <td>General Education</td>\n",
       "      <td>Bachelors_Degree</td>\n",
       "      <td>15000.0</td>\n",
       "      <td>33</td>\n",
       "      <td>1.0</td>\n",
       "      <td>24116</td>\n",
       "    </tr>\n",
       "  </tbody>\n",
       "</table>\n",
       "</div>"
      ],
      "text/plain": [
       "               FOD1P              SCHL      WAGP  AGEP  COW tuition\n",
       "0            Nursing  Bachelors_Degree   39000.0    63  3.0   24116\n",
       "1            Biology  Bachelors_Degree   16000.0    22  2.0   24116\n",
       "2            Nursing  Bachelors_Degree  100000.0    52  1.0   24116\n",
       "3        Mathematics  Bachelors_Degree   41000.0    65  1.0   24116\n",
       "4  General Education  Bachelors_Degree   15000.0    33  1.0   24116"
      ]
     },
     "execution_count": 17,
     "metadata": {},
     "output_type": "execute_result"
    }
   ],
   "source": [
    "degree_dict={'2102.0':'Computer Science',\n",
    "            '3700.0':'Mathematics' ,\n",
    "            '3702.0':'Statistics and Decision Science', \n",
    "            '2405.0':'Chemical Engineering',\n",
    "            '2406.0':'Civil Engineering',\n",
    "            '2414.0':'Mechanical Engineering', \n",
    "            '3600.0':'Biology', \n",
    "            '1301.0':'Environmental', \n",
    "            '5003.0':'Chemistry', \n",
    "            '5501.0':'Economics', \n",
    "            '5506.0':'Political Science', \n",
    "            '5507.0':'Sociology', \n",
    "            '2300.0':'General Education', \n",
    "            '3202.0':'Law', \n",
    "            '5601.0':'Construction Services', \n",
    "            '6201.0':'Accounting', \n",
    "            '6207.0':'Finance', \n",
    "            '6206.0':'Marketing and Marketing Research', \n",
    "            '6108.0':'Pharmacy, Pharmaceutical Sciences and Administration',\n",
    "            '6107.0':'Nursing', \n",
    "            '6100.0':'General Medical Health Services',\n",
    "            'No_Degree':'No_Degree'}\n",
    "refined_data['FOD1P'] = refined_data['FOD1P'].map(degree_dict)\n",
    "refined_data.head()"
   ]
  },
  {
   "cell_type": "code",
   "execution_count": 18,
   "metadata": {},
   "outputs": [
    {
     "data": {
      "text/plain": [
       "General Education                                       137846\n",
       "Nursing                                                 135644\n",
       "Accounting                                              126376\n",
       "Biology                                                  87238\n",
       "Marketing and Marketing Research                         69893\n",
       "Economics                                                64790\n",
       "Political Science                                        63855\n",
       "Computer Science                                         62839\n",
       "Finance                                                  59981\n",
       "Sociology                                                56049\n",
       "Mechanical Engineering                                   53793\n",
       "Mathematics                                              48459\n",
       "Chemistry                                                36709\n",
       "Civil Engineering                                        32400\n",
       "Chemical Engineering                                     19852\n",
       "Pharmacy, Pharmaceutical Sciences and Administration     14881\n",
       "Environmental                                             9954\n",
       "General Medical Health Services                           9654\n",
       "Construction Services                                     5875\n",
       "Law                                                       4289\n",
       "Statistics and Decision Science                           2712\n",
       "Name: FOD1P, dtype: int64"
      ]
     },
     "execution_count": 18,
     "metadata": {},
     "output_type": "execute_result"
    }
   ],
   "source": [
    "refined_data['FOD1P'].value_counts()"
   ]
  },
  {
   "cell_type": "markdown",
   "metadata": {},
   "source": [
    "# Create DataFrames for plotting"
   ]
  },
  {
   "cell_type": "code",
   "execution_count": null,
   "metadata": {},
   "outputs": [],
   "source": []
  },
  {
   "cell_type": "code",
   "execution_count": null,
   "metadata": {},
   "outputs": [],
   "source": []
  },
  {
   "cell_type": "code",
   "execution_count": null,
   "metadata": {},
   "outputs": [],
   "source": []
  }
 ],
 "metadata": {
  "kernelspec": {
   "display_name": "Python 3",
   "language": "python",
   "name": "python3"
  },
  "language_info": {
   "codemirror_mode": {
    "name": "ipython",
    "version": 3
   },
   "file_extension": ".py",
   "mimetype": "text/x-python",
   "name": "python",
   "nbconvert_exporter": "python",
   "pygments_lexer": "ipython3",
   "version": "3.7.3"
  }
 },
 "nbformat": 4,
 "nbformat_minor": 2
}
