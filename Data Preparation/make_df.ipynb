{
 "cells": [
  {
   "cell_type": "code",
   "execution_count": 1,
   "metadata": {},
   "outputs": [],
   "source": [
    "import pandas as pd\n",
    "# Store all relavent csv files in one array.\n",
    "paths=[\"Resources/psam_pusa.csv\",\"Resources/psam_pusb.csv\",\"Resources/psam_pusc.csv\",\"Resources/psam_pusd.csv\"]"
   ]
  },
  {
   "cell_type": "code",
   "execution_count": 2,
   "metadata": {},
   "outputs": [
    {
     "name": "stdout",
     "output_type": "stream",
     "text": [
      "done!\n"
     ]
    }
   ],
   "source": [
    "coarse=[]\n",
    "dfs=[]\n",
    "# Interate through the paths array and store a list of data frames, then pick out only the columns we need.\n",
    "for i in range(len(paths)):\n",
    "    coarse.append(pd.read_csv(paths[i]))\n",
    "    dfs.append(coarse[i][['FOD1P','SCHL','WAGP', 'AGEP', 'COW']])\n",
    "print(\"done!\")"
   ]
  },
  {
   "cell_type": "code",
   "execution_count": 3,
   "metadata": {},
   "outputs": [
    {
     "name": "stdout",
     "output_type": "stream",
     "text": [
      "done211!\n"
     ]
    }
   ],
   "source": [
    "# Concatenate the data frames together since they are of the same structure with a loop through the list of data frames.\n",
    "merged_df = pd.concat(dfs[i] for i in range(len(dfs)))\n",
    "print(\"done211!\")"
   ]
  },
  {
   "cell_type": "code",
   "execution_count": 4,
   "metadata": {},
   "outputs": [
    {
     "data": {
      "text/plain": [
       "(15758937, 5)"
      ]
     },
     "execution_count": 4,
     "metadata": {},
     "output_type": "execute_result"
    }
   ],
   "source": [
    "merged_df.shape"
   ]
  },
  {
   "cell_type": "code",
   "execution_count": 5,
   "metadata": {},
   "outputs": [
    {
     "data": {
      "text/html": [
       "<div>\n",
       "<style scoped>\n",
       "    .dataframe tbody tr th:only-of-type {\n",
       "        vertical-align: middle;\n",
       "    }\n",
       "\n",
       "    .dataframe tbody tr th {\n",
       "        vertical-align: top;\n",
       "    }\n",
       "\n",
       "    .dataframe thead th {\n",
       "        text-align: right;\n",
       "    }\n",
       "</style>\n",
       "<table border=\"1\" class=\"dataframe\">\n",
       "  <thead>\n",
       "    <tr style=\"text-align: right;\">\n",
       "      <th></th>\n",
       "      <th>FOD1P</th>\n",
       "      <th>SCHL</th>\n",
       "      <th>WAGP</th>\n",
       "      <th>AGEP</th>\n",
       "      <th>COW</th>\n",
       "    </tr>\n",
       "  </thead>\n",
       "  <tbody>\n",
       "    <tr>\n",
       "      <th>0</th>\n",
       "      <td>NaN</td>\n",
       "      <td>19.0</td>\n",
       "      <td>0.0</td>\n",
       "      <td>19</td>\n",
       "      <td>NaN</td>\n",
       "    </tr>\n",
       "    <tr>\n",
       "      <th>1</th>\n",
       "      <td>NaN</td>\n",
       "      <td>20.0</td>\n",
       "      <td>52000.0</td>\n",
       "      <td>55</td>\n",
       "      <td>1.0</td>\n",
       "    </tr>\n",
       "    <tr>\n",
       "      <th>2</th>\n",
       "      <td>NaN</td>\n",
       "      <td>16.0</td>\n",
       "      <td>0.0</td>\n",
       "      <td>56</td>\n",
       "      <td>6.0</td>\n",
       "    </tr>\n",
       "    <tr>\n",
       "      <th>3</th>\n",
       "      <td>NaN</td>\n",
       "      <td>19.0</td>\n",
       "      <td>0.0</td>\n",
       "      <td>21</td>\n",
       "      <td>NaN</td>\n",
       "    </tr>\n",
       "    <tr>\n",
       "      <th>4</th>\n",
       "      <td>NaN</td>\n",
       "      <td>19.0</td>\n",
       "      <td>0.0</td>\n",
       "      <td>21</td>\n",
       "      <td>NaN</td>\n",
       "    </tr>\n",
       "  </tbody>\n",
       "</table>\n",
       "</div>"
      ],
      "text/plain": [
       "   FOD1P  SCHL     WAGP  AGEP  COW\n",
       "0    NaN  19.0      0.0    19  NaN\n",
       "1    NaN  20.0  52000.0    55  1.0\n",
       "2    NaN  16.0      0.0    56  6.0\n",
       "3    NaN  19.0      0.0    21  NaN\n",
       "4    NaN  19.0      0.0    21  NaN"
      ]
     },
     "execution_count": 5,
     "metadata": {},
     "output_type": "execute_result"
    }
   ],
   "source": [
    "merged_df.head()"
   ]
  },
  {
   "cell_type": "markdown",
   "metadata": {},
   "source": [
    "Get Degrees Needed"
   ]
  },
  {
   "cell_type": "code",
   "execution_count": 6,
   "metadata": {},
   "outputs": [
    {
     "name": "stdout",
     "output_type": "stream",
     "text": [
      "doneee\n"
     ]
    },
    {
     "data": {
      "text/plain": [
       "(1206990, 5)"
      ]
     },
     "execution_count": 6,
     "metadata": {},
     "output_type": "execute_result"
    }
   ],
   "source": [
    "categories = ['2102', '3700', '3702', '2405',\n",
    "              '2406', '2414', '3600', '1301',\n",
    "              '5003', '5501', '5506', '5507',\n",
    "              '2300', '3202', '5601', '6201',\n",
    "              '6207', '6206', '6108', '6107',\n",
    "              '6100']\n",
    "degrees_df = merged_df[merged_df['FOD1P'].isin(categories) ]\n",
    "print(\"doneee\")\n",
    "degrees_df.shape"
   ]
  },
  {
   "cell_type": "code",
   "execution_count": 7,
   "metadata": {},
   "outputs": [
    {
     "data": {
      "text/plain": [
       "2300.0    143321\n",
       "6107.0    142481\n",
       "6201.0    132941\n",
       "3600.0    115702\n",
       "5506.0     82457\n",
       "5501.0     72111\n",
       "6206.0     71299\n",
       "2102.0     64064\n",
       "6207.0     62909\n",
       "5507.0     59514\n",
       "2414.0     55551\n",
       "3700.0     51447\n",
       "5003.0     44418\n",
       "2406.0     33553\n",
       "2405.0     21123\n",
       "6108.0     19156\n",
       "6100.0     10497\n",
       "1301.0     10415\n",
       "5601.0      5956\n",
       "3202.0      5266\n",
       "3702.0      2809\n",
       "Name: FOD1P, dtype: int64"
      ]
     },
     "execution_count": 7,
     "metadata": {},
     "output_type": "execute_result"
    }
   ],
   "source": [
    "degrees_df['FOD1P'].value_counts()"
   ]
  },
  {
   "cell_type": "markdown",
   "metadata": {},
   "source": [
    "Get No Degree Samples"
   ]
  },
  {
   "cell_type": "code",
   "execution_count": 8,
   "metadata": {},
   "outputs": [
    {
     "data": {
      "text/plain": [
       "(2000000, 5)"
      ]
     },
     "execution_count": 8,
     "metadata": {},
     "output_type": "execute_result"
    }
   ],
   "source": [
    "sample_df = merged_df.sample(n=2000000)\n",
    "sample_df.shape"
   ]
  },
  {
   "cell_type": "code",
   "execution_count": 9,
   "metadata": {},
   "outputs": [
    {
     "name": "stdout",
     "output_type": "stream",
     "text": [
      "done21!\n"
     ]
    },
    {
     "data": {
      "text/html": [
       "<div>\n",
       "<style scoped>\n",
       "    .dataframe tbody tr th:only-of-type {\n",
       "        vertical-align: middle;\n",
       "    }\n",
       "\n",
       "    .dataframe tbody tr th {\n",
       "        vertical-align: top;\n",
       "    }\n",
       "\n",
       "    .dataframe thead th {\n",
       "        text-align: right;\n",
       "    }\n",
       "</style>\n",
       "<table border=\"1\" class=\"dataframe\">\n",
       "  <thead>\n",
       "    <tr style=\"text-align: right;\">\n",
       "      <th></th>\n",
       "      <th>FOD1P</th>\n",
       "      <th>SCHL</th>\n",
       "      <th>WAGP</th>\n",
       "      <th>AGEP</th>\n",
       "      <th>COW</th>\n",
       "    </tr>\n",
       "  </thead>\n",
       "  <tbody>\n",
       "    <tr>\n",
       "      <th>2968546</th>\n",
       "      <td>No_Degree</td>\n",
       "      <td>18.0</td>\n",
       "      <td>23000.0</td>\n",
       "      <td>21</td>\n",
       "      <td>1.0</td>\n",
       "    </tr>\n",
       "    <tr>\n",
       "      <th>1994017</th>\n",
       "      <td>No_Degree</td>\n",
       "      <td>16.0</td>\n",
       "      <td>65000.0</td>\n",
       "      <td>29</td>\n",
       "      <td>1.0</td>\n",
       "    </tr>\n",
       "    <tr>\n",
       "      <th>3131252</th>\n",
       "      <td>No_Degree</td>\n",
       "      <td>16.0</td>\n",
       "      <td>0.0</td>\n",
       "      <td>30</td>\n",
       "      <td>NaN</td>\n",
       "    </tr>\n",
       "    <tr>\n",
       "      <th>2897000</th>\n",
       "      <td>No_Degree</td>\n",
       "      <td>13.0</td>\n",
       "      <td>3800.0</td>\n",
       "      <td>71</td>\n",
       "      <td>1.0</td>\n",
       "    </tr>\n",
       "    <tr>\n",
       "      <th>305559</th>\n",
       "      <td>No_Degree</td>\n",
       "      <td>19.0</td>\n",
       "      <td>0.0</td>\n",
       "      <td>78</td>\n",
       "      <td>NaN</td>\n",
       "    </tr>\n",
       "  </tbody>\n",
       "</table>\n",
       "</div>"
      ],
      "text/plain": [
       "             FOD1P  SCHL     WAGP  AGEP  COW\n",
       "2968546  No_Degree  18.0  23000.0    21  1.0\n",
       "1994017  No_Degree  16.0  65000.0    29  1.0\n",
       "3131252  No_Degree  16.0      0.0    30  NaN\n",
       "2897000  No_Degree  13.0   3800.0    71  1.0\n",
       "305559   No_Degree  19.0      0.0    78  NaN"
      ]
     },
     "execution_count": 9,
     "metadata": {},
     "output_type": "execute_result"
    }
   ],
   "source": [
    "sample_df['FOD1P'].fillna(\"No_Degree\", inplace = True)\n",
    "print(\"done21!\")\n",
    "sample_df.head()"
   ]
  },
  {
   "cell_type": "code",
   "execution_count": 11,
   "metadata": {},
   "outputs": [
    {
     "data": {
      "text/plain": [
       "No_Degree    1543033\n",
       "6203.0         27874\n",
       "5200.0         19776\n",
       "2304.0         19274\n",
       "6200.0         18833\n",
       "2300.0         18297\n",
       "6107.0         17856\n",
       "6201.0         16880\n",
       "3301.0         14865\n",
       "3600.0         14573\n",
       "Name: FOD1P, dtype: int64"
      ]
     },
     "execution_count": 11,
     "metadata": {},
     "output_type": "execute_result"
    }
   ],
   "source": [
    "sample_df['FOD1P'].value_counts().head(10)"
   ]
  },
  {
   "cell_type": "code",
   "execution_count": 14,
   "metadata": {},
   "outputs": [
    {
     "data": {
      "text/html": [
       "<div>\n",
       "<style scoped>\n",
       "    .dataframe tbody tr th:only-of-type {\n",
       "        vertical-align: middle;\n",
       "    }\n",
       "\n",
       "    .dataframe tbody tr th {\n",
       "        vertical-align: top;\n",
       "    }\n",
       "\n",
       "    .dataframe thead th {\n",
       "        text-align: right;\n",
       "    }\n",
       "</style>\n",
       "<table border=\"1\" class=\"dataframe\">\n",
       "  <thead>\n",
       "    <tr style=\"text-align: right;\">\n",
       "      <th></th>\n",
       "      <th>FOD1P</th>\n",
       "      <th>SCHL</th>\n",
       "      <th>WAGP</th>\n",
       "      <th>AGEP</th>\n",
       "      <th>COW</th>\n",
       "    </tr>\n",
       "  </thead>\n",
       "  <tbody>\n",
       "    <tr>\n",
       "      <th>2968546</th>\n",
       "      <td>No_Degree</td>\n",
       "      <td>18.0</td>\n",
       "      <td>23000.0</td>\n",
       "      <td>21</td>\n",
       "      <td>1.0</td>\n",
       "    </tr>\n",
       "    <tr>\n",
       "      <th>1994017</th>\n",
       "      <td>No_Degree</td>\n",
       "      <td>16.0</td>\n",
       "      <td>65000.0</td>\n",
       "      <td>29</td>\n",
       "      <td>1.0</td>\n",
       "    </tr>\n",
       "    <tr>\n",
       "      <th>3131252</th>\n",
       "      <td>No_Degree</td>\n",
       "      <td>16.0</td>\n",
       "      <td>0.0</td>\n",
       "      <td>30</td>\n",
       "      <td>NaN</td>\n",
       "    </tr>\n",
       "    <tr>\n",
       "      <th>2897000</th>\n",
       "      <td>No_Degree</td>\n",
       "      <td>13.0</td>\n",
       "      <td>3800.0</td>\n",
       "      <td>71</td>\n",
       "      <td>1.0</td>\n",
       "    </tr>\n",
       "    <tr>\n",
       "      <th>305559</th>\n",
       "      <td>No_Degree</td>\n",
       "      <td>19.0</td>\n",
       "      <td>0.0</td>\n",
       "      <td>78</td>\n",
       "      <td>NaN</td>\n",
       "    </tr>\n",
       "  </tbody>\n",
       "</table>\n",
       "</div>"
      ],
      "text/plain": [
       "             FOD1P  SCHL     WAGP  AGEP  COW\n",
       "2968546  No_Degree  18.0  23000.0    21  1.0\n",
       "1994017  No_Degree  16.0  65000.0    29  1.0\n",
       "3131252  No_Degree  16.0      0.0    30  NaN\n",
       "2897000  No_Degree  13.0   3800.0    71  1.0\n",
       "305559   No_Degree  19.0      0.0    78  NaN"
      ]
     },
     "execution_count": 14,
     "metadata": {},
     "output_type": "execute_result"
    }
   ],
   "source": [
    "no_degree_list = ['No_Degree']\n",
    "no_degree_df = sample_df[sample_df['FOD1P'].isin(no_degree_list) ]\n",
    "no_degree_df.head()"
   ]
  },
  {
   "cell_type": "code",
   "execution_count": 16,
   "metadata": {},
   "outputs": [
    {
     "data": {
      "text/plain": [
       "No_Degree    60000\n",
       "Name: FOD1P, dtype: int64"
      ]
     },
     "execution_count": 16,
     "metadata": {},
     "output_type": "execute_result"
    }
   ],
   "source": [
    "no_degree_sample_df = no_degree_df.sample(n=60000)\n",
    "no_degree_sample_df['FOD1P'].value_counts().head(10)"
   ]
  },
  {
   "cell_type": "code",
   "execution_count": 17,
   "metadata": {},
   "outputs": [
    {
     "data": {
      "text/plain": [
       "2300.0       143321\n",
       "6107.0       142481\n",
       "6201.0       132941\n",
       "3600.0       115702\n",
       "5506.0        82457\n",
       "5501.0        72111\n",
       "6206.0        71299\n",
       "2102.0        64064\n",
       "6207.0        62909\n",
       "No_Degree     60000\n",
       "5507.0        59514\n",
       "2414.0        55551\n",
       "3700.0        51447\n",
       "5003.0        44418\n",
       "2406.0        33553\n",
       "2405.0        21123\n",
       "6108.0        19156\n",
       "6100.0        10497\n",
       "1301.0        10415\n",
       "5601.0         5956\n",
       "3202.0         5266\n",
       "3702.0         2809\n",
       "Name: FOD1P, dtype: int64"
      ]
     },
     "execution_count": 17,
     "metadata": {},
     "output_type": "execute_result"
    }
   ],
   "source": [
    "us_data_df = pd.concat([degrees_df, no_degree_sample_df])\n",
    "us_data_df['FOD1P'].value_counts()"
   ]
  },
  {
   "cell_type": "code",
   "execution_count": 20,
   "metadata": {},
   "outputs": [
    {
     "name": "stdout",
     "output_type": "stream",
     "text": [
      "Done!\n"
     ]
    }
   ],
   "source": [
    "us_data_df.to_csv(\"US_Data.csv\")\n",
    "print('Done!')"
   ]
  },
  {
   "cell_type": "code",
   "execution_count": null,
   "metadata": {},
   "outputs": [],
   "source": []
  }
 ],
 "metadata": {
  "kernelspec": {
   "display_name": "Python 3",
   "language": "python",
   "name": "python3"
  },
  "language_info": {
   "codemirror_mode": {
    "name": "ipython",
    "version": 3
   },
   "file_extension": ".py",
   "mimetype": "text/x-python",
   "name": "python",
   "nbconvert_exporter": "python",
   "pygments_lexer": "ipython3",
   "version": "3.7.3"
  }
 },
 "nbformat": 4,
 "nbformat_minor": 2
}
