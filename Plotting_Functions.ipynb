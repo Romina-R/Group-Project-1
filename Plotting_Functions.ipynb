{
 "cells": [
  {
   "cell_type": "code",
   "execution_count": 10,
   "metadata": {},
   "outputs": [],
   "source": [
    "import pandas as pd\n",
    "import matplotlib.pyplot as plt \n",
    "import numpy as np"
   ]
  },
  {
   "cell_type": "code",
   "execution_count": 16,
   "metadata": {},
   "outputs": [],
   "source": [
    "# make up a data before team mates finish their analysis of the data frame\n",
    "madeupdata={'Fine Art':[500000,5000,75000,10000,100000,15000],'Engineering':[80000,12000,150000,30000,179000,45000]}"
   ]
  },
  {
   "cell_type": "code",
   "execution_count": 34,
   "metadata": {},
   "outputs": [],
   "source": [
    "# takes in a dictionary of the format {major_name:[undergrad_income, undergrad_income_std, master_income, master_income_std,\n",
    "# Phd_income, Phd_income_std], and so on}. And returns the major names as a list, and another list of \n",
    "# [undergrad_income+-undergrad_income_std, master_income+-master_income_std, Phd_income+-Phd_income_std]\n",
    "# +- means plus and minus so the array is 1 by 6 for each major.\n",
    "def processdata(data:dict):\n",
    "    keys=list(data.keys())\n",
    "\n",
    "    return keys"
   ]
  },
  {
   "cell_type": "code",
   "execution_count": 11,
   "metadata": {},
   "outputs": [],
   "source": [
    "# takes in the 1 by 6 list of [undergrad_income+-undergrad_income_std, master_income+-master_income_std, Phd_income+-Phd_income_std]\n",
    "# from the previous function as slope, and point would be coordinates of\n",
    "# [undergrad_tuition,undergrad_years,master_tuition,master_years,Phd_tuition,Phd_years]\n",
    "# and returns the y intercet (x=0) of the lines of the six lines we are plotting for each major.\n",
    "\n",
    "def yintercept(slopes:list, points:list):\n",
    "\n",
    "  \n",
    "    "
   ]
  },
  {
   "cell_type": "code",
   "execution_count": 12,
   "metadata": {},
   "outputs": [],
   "source": [
    "# Don't worry about this one for now.\n",
    "def plotline(slope:list, yintercet:list,legend:list):\n",
    "    #plot a line with known slope and y intercept\n",
    "    #figure people works for 60 years before retiring just to be safe.\n",
    "    x_axis = np.arange(0, 61, 1) \n",
    "    y=slope*x_axis\n",
    "    plt.plot(x_axis, y)"
   ]
  },
  {
   "cell_type": "code",
   "execution_count": null,
   "metadata": {},
   "outputs": [],
   "source": []
  }
 ],
 "metadata": {
  "kernelspec": {
   "display_name": "Python 3",
   "language": "python",
   "name": "python3"
  },
  "language_info": {
   "codemirror_mode": {
    "name": "ipython",
    "version": 3
   },
   "file_extension": ".py",
   "mimetype": "text/x-python",
   "name": "python",
   "nbconvert_exporter": "python",
   "pygments_lexer": "ipython3",
   "version": "3.7.3"
  }
 },
 "nbformat": 4,
 "nbformat_minor": 2
}
