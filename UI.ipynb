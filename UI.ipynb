{
 "cells": [
  {
   "cell_type": "code",
   "execution_count": null,
   "metadata": {},
   "outputs": [],
   "source": [
    "from Master_Plotting import master_plotting"
   ]
  },
  {
   "cell_type": "code",
   "execution_count": null,
   "metadata": {},
   "outputs": [
    {
     "name": "stdout",
     "output_type": "stream",
     "text": [
      "Welcome to use our program Does Education Pay Off. \n",
      "\n",
      "This program will plot you the income distribution of each education level of undergrad, master, and Phd for a field of your choice. \n",
      "We will also then generate a custom plot to see when will your graduate education pay off, or if they pay off at all. \n",
      "\n",
      "Computer Science\n",
      "Mathematics\n",
      "Statistics and Decision Science\n",
      "Chemical Engineering\n",
      "Civil Engineering\n",
      "Mechanical Engineering\n",
      "Biology\n",
      "Environmental\n",
      "Chemistry\n",
      "Economics\n",
      "Political Science\n",
      "Sociology\n",
      "General Education\n",
      "Law\n",
      "Construction Services\n",
      "Accounting\n",
      "Finance\n",
      "Marketing and Marketing Research\n",
      "Pharmacy, Pharmaceutical Sciences and Administration\n",
      "Nursing\n",
      "General Medical Health Services\n",
      "\n",
      "Please choose a major from the above selection, insert \"all\" to see all majors: Law\n"
     ]
    }
   ],
   "source": [
    "message1='Welcome to use our program Does Education Pay Off.' \n",
    "message2='This program will plot you the income distribution of each education level of undergrad, master, and Phd for a field of your choice.' \n",
    "message3='We will also then generate a custom plot to see when will your graduate education pay off, or if they pay off at all.'\n",
    "message4='Please choose a major from the above selection, insert \"all\" to see all majors: '\n",
    "majors=['Computer Science',\n",
    "        'Mathematics' ,\n",
    "        'Statistics and Decision Science', \n",
    "        'Chemical Engineering',\n",
    "        'Civil Engineering',\n",
    "        'Mechanical Engineering', \n",
    "        'Biology', \n",
    "        'Environmental', \n",
    "        'Chemistry', \n",
    "        'Economics', \n",
    "        'Political Science', \n",
    "        'Sociology', \n",
    "        'General Education', \n",
    "        'Law', \n",
    "        'Construction Services', \n",
    "        'Accounting', \n",
    "        'Finance', \n",
    "        'Marketing and Marketing Research', \n",
    "        'Pharmacy, Pharmaceutical Sciences and Administration',\n",
    "        'Nursing', \n",
    "        'General Medical Health Services']\n",
    "\n",
    "str_build_majors = ''\n",
    "for i in majors:\n",
    "    str_build_majors += f'{i}\\n'\n",
    "\n",
    "str_build = f'{message1} \\n\\n{message2} \\n{message3} \\n\\n{str_build_majors}'\n",
    "print(str_build)\n",
    "\n",
    "chosen_major = input(message4)\n",
    "\n",
    "percentile_ug = input(\"Please enter percentile of undergrad: \")\n",
    "\n",
    "upper_cut_off =input(\"Please eneter upper cutoff for percentile: \")\n",
    "\n",
    "lower_cut_off = input(\"Please eneter lower cutoff for percentile: \" )\n",
    "\n"
   ]
  },
  {
   "cell_type": "code",
   "execution_count": null,
   "metadata": {},
   "outputs": [],
   "source": []
  },
  {
   "cell_type": "code",
   "execution_count": null,
   "metadata": {},
   "outputs": [],
   "source": []
  }
 ],
 "metadata": {
  "kernelspec": {
   "display_name": "Python 3",
   "language": "python",
   "name": "python3"
  },
  "language_info": {
   "codemirror_mode": {
    "name": "ipython",
    "version": 3
   },
   "file_extension": ".py",
   "mimetype": "text/x-python",
   "name": "python",
   "nbconvert_exporter": "python",
   "pygments_lexer": "ipython3",
   "version": "3.7.3"
  }
 },
 "nbformat": 4,
 "nbformat_minor": 2
}
