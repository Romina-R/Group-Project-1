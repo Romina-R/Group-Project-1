{
 "cells": [
  {
   "cell_type": "code",
   "execution_count": 3,
   "metadata": {},
   "outputs": [],
   "source": [
    "madeupdata={'Accounting': [58513.32, 80956.36, 82731.09, 98381.62, 80158.99, 105062.91],\n",
    " 'Biology': [38824.2, 53952.02, 56473.68, 69790.21, 97400.19, 110537.7],\n",
    " 'Chemical Engineering': [69208.28,\n",
    "  85138.84,\n",
    "  88943.39,\n",
    "  106401.08,\n",
    "  98375.9,\n",
    "  108109.52],\n",
    " 'Chemistry': [41516.11, 62449.77, 57298.3, 78389.52, 88141.87, 105599.79],\n",
    " 'Civil Engineering': [65334.55,\n",
    "  75703.5,\n",
    "  82412.33,\n",
    "  92644.57,\n",
    "  80231.42,\n",
    "  89736.59],\n",
    " 'Computer Science': [75923.86,\n",
    "  74201.4,\n",
    "  96926.06,\n",
    "  88597.23,\n",
    "  127073.19,\n",
    "  117378.51]}"
   ]
  },
  {
   "cell_type": "code",
   "execution_count": 4,
   "metadata": {},
   "outputs": [],
   "source": [
    "degree = []\n",
    "\n",
    "listofsalaryrange = []\n",
    "for x in madeupdata:\n",
    "    degree.append(x)\n",
    "    salaryrange=[]\n",
    "\n",
    "    for i in range(len(madeupdata[x])):\n",
    "\n",
    "\n",
    "            if (i)%2 == 0:\n",
    "            # print(madeupdata[x][i])\n",
    "                salaryrange.append(madeupdata[x][i]-madeupdata[x][i+1])\n",
    "                salaryrange.append(madeupdata[x][i]+madeupdata[x][i+1])\n",
    "\n",
    "    listofsalaryrange.append(salaryrange)"
   ]
  },
  {
   "cell_type": "code",
   "execution_count": 5,
   "metadata": {},
   "outputs": [
    {
     "data": {
      "text/plain": [
       "['Accounting',\n",
       " 'Biology',\n",
       " 'Chemical Engineering',\n",
       " 'Chemistry',\n",
       " 'Civil Engineering',\n",
       " 'Computer Science']"
      ]
     },
     "execution_count": 5,
     "metadata": {},
     "output_type": "execute_result"
    }
   ],
   "source": [
    "degree"
   ]
  },
  {
   "cell_type": "code",
   "execution_count": 6,
   "metadata": {},
   "outputs": [
    {
     "data": {
      "text/plain": [
       "[[-22443.04,\n",
       "  139469.68,\n",
       "  -15650.529999999999,\n",
       "  181112.71,\n",
       "  -24903.92,\n",
       "  185221.90000000002],\n",
       " [-15127.82,\n",
       "  92776.22,\n",
       "  -13316.530000000006,\n",
       "  126263.89000000001,\n",
       "  -13137.509999999995,\n",
       "  207937.89],\n",
       " [-15930.559999999998,\n",
       "  154347.12,\n",
       "  -17457.690000000002,\n",
       "  195344.47,\n",
       "  -9733.62000000001,\n",
       "  206485.41999999998],\n",
       " [-20933.659999999996,\n",
       "  103965.88,\n",
       "  -21091.22,\n",
       "  135687.82,\n",
       "  -17457.92,\n",
       "  193741.65999999997],\n",
       " [-10368.949999999997,\n",
       "  141038.05,\n",
       "  -10232.240000000005,\n",
       "  175056.90000000002,\n",
       "  -9505.169999999998,\n",
       "  169968.01],\n",
       " [1722.4600000000064,\n",
       "  150125.26,\n",
       "  8328.830000000002,\n",
       "  185523.28999999998,\n",
       "  9694.680000000008,\n",
       "  244451.7]]"
      ]
     },
     "execution_count": 6,
     "metadata": {},
     "output_type": "execute_result"
    }
   ],
   "source": [
    "listofsalaryrange"
   ]
  },
  {
   "cell_type": "code",
   "execution_count": null,
   "metadata": {},
   "outputs": [],
   "source": []
  }
 ],
 "metadata": {
  "kernelspec": {
   "display_name": "Python 3",
   "language": "python",
   "name": "python3"
  },
  "language_info": {
   "codemirror_mode": {
    "name": "ipython",
    "version": 3
   },
   "file_extension": ".py",
   "mimetype": "text/x-python",
   "name": "python",
   "nbconvert_exporter": "python",
   "pygments_lexer": "ipython3",
   "version": "3.7.3"
  }
 },
 "nbformat": 4,
 "nbformat_minor": 2
}
